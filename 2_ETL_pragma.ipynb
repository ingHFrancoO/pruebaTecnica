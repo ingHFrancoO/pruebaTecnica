{
 "cells": [
  {
   "cell_type": "markdown",
   "metadata": {},
   "source": [
    "<center>\n",
    "<img src=\"https://www.pragma.com.co/hubfs/pragma_theme2021/images/Header%20Logo.svg\" alt=\"pragma\" title=\"pragma\">\n",
    "\n",
    "# PRUEBA TECNICA\n",
    "\n",
    "    Presentado por: HUMBERTO FRANCO OSORIO \n",
    "\n",
    "    Cargo al que aplica: INGENIERO DE DATOS\n",
    "</center>\n",
    "\n",
    "## **PIPELINE**\n",
    "\n",
    "***Nota**: para una correcta ejecución del notebook ejecute cada bloque en orden*"
   ]
  },
  {
   "cell_type": "markdown",
   "metadata": {},
   "source": [
    "### Importar librerías necesarias"
   ]
  },
  {
   "cell_type": "code",
   "execution_count": 1,
   "metadata": {},
   "outputs": [],
   "source": [
    "## LIBRERIAS\n",
    "import pandas as pd         # Necesaria para lectura de archivo csv\n",
    "import mysql.connector      # Necesaria para conectar con la base de datos\n",
    "import datetime             # Necesaria para el manejo del formato de la fecha que se ingresa en la base de datos\n",
    "from IPython.display import clear_output    # limpiar salida de celdas\n",
    "import time                                 # utilizada para crear una pausa    "
   ]
  },
  {
   "cell_type": "markdown",
   "metadata": {},
   "source": [
    "### Funciones para creación registros y consultas en base de datos"
   ]
  },
  {
   "cell_type": "code",
   "execution_count": 5,
   "metadata": {},
   "outputs": [],
   "source": [
    "# FUNCIONES PARA EL ETL\n",
    "\n",
    "def dimUserSQL ( data: int, instruction: str, conection: object ) -> tuple:\n",
    "    if instruction == 'insert':\n",
    "        query = f\"INSERT INTO dim_user (user_id) VALUES ({data})\"\n",
    "        cursor.execute(query)\n",
    "        conection.commit()\n",
    "    \n",
    "    query = f\"SELECT * FROM dim_user WHERE user_id = {data};\"\n",
    "    \n",
    "    cursor.execute(query)\n",
    "    \n",
    "    return cursor.fetchone()\n",
    "\n",
    "def dimTimeSQL ( date: datetime, instruction: str, conection: object ) -> tuple:\n",
    "    date = datetime.datetime.strptime(date, '%Y-%m-%d')\n",
    "    \n",
    "    if instruction == 'insert':\n",
    "        month = date.month\n",
    "        semester = int(month / 6) + 1\n",
    "        trimester = int(month / 3) + 1\n",
    "        year = date.year\n",
    "        \n",
    "        query = f\"INSERT INTO dim_time (date, year, trimester, semester, month) VALUES ('{date}', {year}, {trimester}, {semester}, {month})\"\n",
    "        cursor.execute(query)\n",
    "        conection.commit()\n",
    "    \n",
    "    \n",
    "    query = f\"SELECT time_key, date FROM dim_time WHERE date = '{date}';\"\n",
    "    cursor.execute(query)\n",
    "    \n",
    "    return cursor.fetchone()\n",
    "\n",
    "def hVentasSQL( user_key: int, time_key:int, price: float) -> None:\n",
    "    query = f\"INSERT INTO h_ventas (user_key, time_key, price) VALUES ({user_key}, {time_key}, {price})\"\n",
    "    cursor.execute(query)\n",
    "    conection.commit()\n",
    "\n",
    "\n",
    "def consultKeys() -> list:\n",
    "    query = \"SELECT * FROM dim_user;\"\n",
    "    cursor.execute(query)\n",
    "    user = cursor.fetchall()\n",
    "    \n",
    "    query = \"SELECT time_key, date FROM dim_time;\"\n",
    "    cursor.execute(query)\n",
    "    time = cursor.fetchall()\n",
    "    \n",
    "    return user, time\n",
    "    \n"
   ]
  },
  {
   "cell_type": "markdown",
   "metadata": {},
   "source": [
    "### PIPELINE principal"
   ]
  },
  {
   "cell_type": "markdown",
   "metadata": {},
   "source": [
    "**1.** Configuración conexión base de datos\n",
    "\n",
    "En los siguientes campos configurar los campos necesarios para conexión a base de datos en MySQL.\n",
    "\n",
    "* **user:** usario para acceso a MySQL (phpMyAdmin).\n",
    "* **password:** contraseña de acceso.\n",
    "* **host:** dirección de conexión a base de datos MySQL (para este caso se accede a la base de datos por medio del localhost al usar XAMPP).\n",
    "* **dataBaseName:** nombre de la base de datos a la que se conectara."
   ]
  },
  {
   "cell_type": "code",
   "execution_count": 2,
   "metadata": {},
   "outputs": [],
   "source": [
    "dbSettings  = {\n",
    "    'user': 'root',\n",
    "    \"password\": '',\n",
    "    \"host\": 'localhost',\n",
    "    \"dataBaseName\": \"ventas_pragma\"\n",
    "}"
   ]
  },
  {
   "cell_type": "markdown",
   "metadata": {},
   "source": [
    "**2.**  Configuración lectura de archivos\n",
    "\n",
    "En los siguientes campos se debe proveer la información para la correcta lectura de los archivos CSV teniendo las siguientes consideraciones:\n",
    "* **quantity:** numero entero que corresponde al numero de archivos que se procesaran en el pipline , para el caso del ejercicio planteado son 5 archivos. (*Nota: debe ser un numero mayos o igual a 1*)\n",
    "* **folder:** Se configura la dirección de la carpeta donde se encuentran los archivos CSV. (*Nota: Si los archivos están en la misma carpeta que el presente notebook, esta campo se deja en blanco (‘’)*)\n",
    "* **nameFile:** si se trata de 1 solo archivo se debe colocar el nombre del archivo con extensión, ejemplo: title.csv \\\n",
    "Si se trata de varios archivos, el nombre de los archivos debe ser igual y al final un número que será el identificador del orden de apertura de archivos, ejemplo: title1.csv, title2.csv, title3.csv, etc… \\\n",
    "Y para estos casos se deberá colocar en este campo el nombre del archivo de l siguiente manera *title{ }.csv*.\n",
    "\n",
    "\n"
   ]
  },
  {
   "cell_type": "code",
   "execution_count": 3,
   "metadata": {},
   "outputs": [],
   "source": [
    "file = {\n",
    "    'quantity': 5,\n",
    "    'folder': 'data',\n",
    "    'nameFile': '2012-{}.csv'\n",
    "}"
   ]
  },
  {
   "cell_type": "markdown",
   "metadata": {},
   "source": [
    "**3.** uso del PIPELINE"
   ]
  },
  {
   "cell_type": "code",
   "execution_count": 6,
   "metadata": {},
   "outputs": [
    {
     "name": "stdout",
     "output_type": "stream",
     "text": [
      "► Archivo Cargado: 2012-5.csv\n",
      "            Cantidad registros cargados:          31         \n",
      "            Cantidad registros con valores nulos: 0\n",
      "► Reporte:\n",
      "    |- Cantidad de registros cargados:          139\n",
      "    |- Price:\n",
      "        |- Minimo: 10.0\n",
      "        |- Maximo: 100.0\n",
      "        |- Medio: 57.884892086330936\n",
      "\n",
      "----------------------------------------------------\n",
      "Carga de datos finalizada\n"
     ]
    }
   ],
   "source": [
    "# CODIGO DE PIPELINE\n",
    "\n",
    "try:\n",
    "    conection = mysql.connector.connect(              # Abrir la conexion con la base de datos\n",
    "        user=dbSettings.get('user'),\n",
    "        password=dbSettings.get('password'),\n",
    "        host=dbSettings.get('host'),\n",
    "        database=dbSettings.get('dataBaseName')\n",
    "    )\n",
    "\n",
    "    contRow = 0\n",
    "    minValue = None\n",
    "    maxValue = 0\n",
    "    addPrice = 0\n",
    "\n",
    "    if(conection.is_connected()):\n",
    "        # Crear un cursor para la DB\n",
    "        cursor = conection.cursor(buffered=True)\n",
    "\n",
    "        # Se consultan las keys de los registros existentes en la DB\n",
    "        userRegister, timeRegister = consultKeys()\n",
    "\n",
    "        # Recorre los archivo csv en la carpeta data\n",
    "        for i in range(file.get('quantity')):\n",
    "            # Leer el archivo csv\n",
    "            df = pd.read_csv(\n",
    "                f\"{ file.get('folder') }/{ file.get('nameFile').format(i+1) }\")\n",
    "\n",
    "            prt = f\"\"\"► Archivo Cargado: { file.get('nameFile').format(i+1) }\n",
    "            Cantidad registros cargados:          {df.shape[0]}         \n",
    "            Cantidad registros con valores nulos: {df.isnull().any(axis=1).sum()}\"\"\"                                                                      # Verificar si hay valores nulos\n",
    "\n",
    "            df.dropna(inplace=True)\n",
    "\n",
    "            for index, row in df.iterrows():                                                                # Recorre el dataframe\n",
    "            \n",
    "                row.update({                                                                                # Nuevo formato a la fecha\n",
    "                    'timestamp': datetime.datetime.strptime(row.get('timestamp'), '%m/%d/%Y').strftime('%Y-%m-%d'),         \n",
    "                })\n",
    "                                                \n",
    "                user = list(filter(lambda reg: reg[1] == row.get('user_id'), userRegister))                             # Buscar si registro de usuario ya esta en la base de datos\n",
    "                timestamp = list(filter(lambda reg: reg[1].strftime('%Y-%m-%d') == row.get('timestamp'), timeRegister))      # Buscar si registro de fecha ya esta en la base de datos\n",
    "                \n",
    "                if len(user) == 0:                                                                                 # Si no existe registro de usuario se inserta\n",
    "                    user = dimUserSQL(row.get('user_id'), 'insert', conection)                                     # Insertar registro de usuario\n",
    "                    userRegister.append(user)                                                                      # Agregar registro de usuario a la lista de registros existentes\n",
    "                else:                                                                     \n",
    "                    user = user[0]\n",
    "                    \n",
    "                if len(timestamp) == 0:                                                                                 # Si no existe registro de usuario se inserta\n",
    "                    timestamp = dimTimeSQL(row.get('timestamp'), 'insert', conection)                                   # Insertar registro de tiempo            \n",
    "                    timeRegister.append(timestamp)                                                                      # Agregar registro de tiempo a la lista de registros existentes\n",
    "                else:                                                                     \n",
    "                    timestamp = timestamp[0]\n",
    "                \n",
    "                hVentasSQL(user[0], timestamp[0], row.get('price'))                                                    # Insertar registro de venta\n",
    "                    \n",
    "                if( minValue is None ):\n",
    "                    minValue = row.get('price')\n",
    "                \n",
    "                contRow += 1                                                                                      # Contador de registros\n",
    "                minValue = float(row.get('price')) if float(row.get('price')) < minValue else minValue            # Minimo valor de venta\n",
    "                maxValue = float(row.get('price')) if float(row.get('price')) > maxValue else maxValue            # Maximo valor de venta\n",
    "                addPrice += float(row.get('price'))                                                                 # Suma de valores de venta\n",
    "                \n",
    "                # time.sleep(0.5)\n",
    "                clear_output(wait=True)         \n",
    "                print(f\"\"\"{prt}\n",
    "► Reporte:\n",
    "    |- Cantidad de registros cargados:          {contRow}\n",
    "    |- Price:\n",
    "        |- Minimo: {minValue}\n",
    "        |- Maximo: {maxValue}\n",
    "        |- Medio: {addPrice / contRow}\"\"\")\n",
    "                \n",
    "            print(\"\")\n",
    "            print(\"----------------------------------------------------\")\n",
    "\n",
    "except mysql.connector.Error as error:\n",
    "    # se genera error si no se puede conectar a la DB\n",
    "    print(\"Error al conectar a la base de datos {}\".format(error))\n",
    "\n",
    "finally:\n",
    "    if conection.is_connected():\n",
    "        # Se cierra la conexion con la DB\n",
    "        conection.close()\n",
    "        print(\"Carga de datos finalizada\")\n",
    "\n",
    "        registerNumbers = contRow\n",
    "        average = addPrice / contRow if contRow != 0 else 0\n"
   ]
  },
  {
   "cell_type": "markdown",
   "metadata": {},
   "source": [
    "### COMPROBACIÓN DE RESULTADOS"
   ]
  },
  {
   "cell_type": "markdown",
   "metadata": {},
   "source": [
    "#### **1.** Estadísticas obtenidas en el pipeline"
   ]
  },
  {
   "cell_type": "code",
   "execution_count": 7,
   "metadata": {},
   "outputs": [
    {
     "name": "stdout",
     "output_type": "stream",
     "text": [
      "\n",
      "|- Cantidad de registros cargados:          139\n",
      "|- Price:\n",
      "    |- Minimo: 10.0\n",
      "    |- Maximo: 100.0\n",
      "    |- Medio: 57.884892086330936\n"
     ]
    }
   ],
   "source": [
    "# RESUMEN DATOS COBTENIDOS EN PROCESO DE CARGA DE DATOS ENE BASE DE DATOS\n",
    "print(f\"\"\"\n",
    "|- Cantidad de registros cargados:          {registerNumbers}\n",
    "|- Price:\n",
    "    |- Minimo: {minValue}\n",
    "    |- Maximo: {maxValue}\n",
    "    |- Medio: {average}\"\"\")\n"
   ]
  },
  {
   "cell_type": "markdown",
   "metadata": {},
   "source": [
    "#### **2.** Estadisticas al consultar base de datos"
   ]
  },
  {
   "cell_type": "code",
   "execution_count": 8,
   "metadata": {},
   "outputs": [
    {
     "name": "stdout",
     "output_type": "stream",
     "text": [
      "\n",
      "|- Cantidad de registros cargados:          139\n",
      "|- Price:\n",
      "    |- Minimo: 10\n",
      "    |- Maximo: 100\n",
      "    |- Medio: 57.88\n"
     ]
    }
   ],
   "source": [
    "# CONSULTA DATOS CARGADOS EN BASE DE DATOS\n",
    "\n",
    "dataBaseName = \"ventas_pragma\"\n",
    "\n",
    "try:\n",
    "    conection = mysql.connector.connect(              # Abrir la conexion con la base de datos\n",
    "        user=dbSettings.get('user'),\n",
    "        password=dbSettings.get('password'),\n",
    "        host=dbSettings.get('host'),\n",
    "        database=dbSettings.get('dataBaseName')\n",
    "    )\n",
    "    \n",
    "    if conection.is_connected():                                                                            # Se establece conexion con base de datos se ejecuta el pipeline\n",
    "        cursor = conection.cursor( buffered= True)\n",
    "        \n",
    "        query = \"SELECT COUNT(*), AVG(price), MIN(price), MAX(price) FROM h_ventas;\"\n",
    "        cursor.execute(query)\n",
    "    \n",
    "        data = cursor.fetchone()\n",
    "        \n",
    "        print(f\"\"\"\n",
    "|- Cantidad de registros cargados:          {data[0]}\n",
    "|- Price:\n",
    "    |- Minimo: {data[2]}\n",
    "    |- Maximo: {data[3]}\n",
    "    |- Medio: { round(data[1],2)}\"\"\")\n",
    "        \n",
    "    \n",
    "    \n",
    "except mysql.connector.Error as error:\n",
    "    print(\"Error al conectar a la base de datos {}\".format(error))                                          #se genera error si no se puede conectar a la DB\n",
    "    exit(1)\n",
    "\n",
    "finally:\n",
    "    if conection.is_connected():\n",
    "        conection.close()                                                                                    # Se cierra la conexion con la DB"
   ]
  },
  {
   "cell_type": "markdown",
   "metadata": {},
   "source": [
    "### **3.** Ejecución de archivo \"validation.csv\""
   ]
  },
  {
   "cell_type": "markdown",
   "metadata": {},
   "source": [
    "**A.** Configuración archivo(s)"
   ]
  },
  {
   "cell_type": "code",
   "execution_count": 9,
   "metadata": {},
   "outputs": [],
   "source": [
    "file = {\n",
    "    'quantity': 1,\n",
    "    'folder': 'data',\n",
    "    'nameFile': 'validation.csv'\n",
    "}"
   ]
  },
  {
   "cell_type": "markdown",
   "metadata": {},
   "source": [
    "**B.** Ejecución PIPELINE"
   ]
  },
  {
   "cell_type": "code",
   "execution_count": 10,
   "metadata": {},
   "outputs": [
    {
     "name": "stdout",
     "output_type": "stream",
     "text": [
      "► Archivo Cargado: validation.csv\n",
      "            Cantidad registros cargados:          8         \n",
      "            Cantidad registros con valores nulos: 0\n",
      "► Reporte:\n",
      "    |- Cantidad de registros cargados:          8\n",
      "    |- Price:\n",
      "        |- Minimo: 11.0\n",
      "        |- Maximo: 92.0\n",
      "        |- Medio: 41.75\n",
      "\n",
      "----------------------------------------------------\n",
      "Carga de datos finalizada\n"
     ]
    }
   ],
   "source": [
    "# CODIGO DE PIPELINE\n",
    "\n",
    "try:\n",
    "    conection = mysql.connector.connect(              # Abrir la conexion con la base de datos\n",
    "        user=dbSettings.get('user'),\n",
    "        password=dbSettings.get('password'),\n",
    "        host=dbSettings.get('host'),\n",
    "        database=dbSettings.get('dataBaseName')\n",
    "    )\n",
    "\n",
    "    contRow = 0\n",
    "    minValue = None\n",
    "    maxValue = 0\n",
    "    addPrice = 0\n",
    "\n",
    "    if(conection.is_connected()):\n",
    "        # Crear un cursor para la DB\n",
    "        cursor = conection.cursor(buffered=True)\n",
    "\n",
    "        # Se consultan las keys de los registros existentes en la DB\n",
    "        userRegister, timeRegister = consultKeys()\n",
    "\n",
    "        print(file.get('quantity'))\n",
    "        # Recorre los archivo csv en la carpeta data\n",
    "        for i in range(file.get('quantity')):\n",
    "            # Leer el archivo csv\n",
    "            df = pd.read_csv(\n",
    "                f\"{ file.get('folder') }/{ file.get('nameFile').format(i+1) }\")\n",
    "\n",
    "            prt = f\"\"\"► Archivo Cargado: { file.get('nameFile').format(i+1) }\n",
    "            Cantidad registros cargados:          {df.shape[0]}         \n",
    "            Cantidad registros con valores nulos: {df.isnull().any(axis=1).sum()}\"\"\"                                                                      # Verificar si hay valores nulos\n",
    "\n",
    "            df.dropna(inplace=True)\n",
    "\n",
    "            for index, row in df.iterrows():                                                                # Recorre el dataframe\n",
    "            \n",
    "                row.update({                                                                                # Nuevo formato a la fecha\n",
    "                    'timestamp': datetime.datetime.strptime(row.get('timestamp'), '%m/%d/%Y').strftime('%Y-%m-%d'),         \n",
    "                })\n",
    "                                                \n",
    "                user = list(filter(lambda reg: reg[1] == row.get('user_id'), userRegister))                             # Buscar si registro de usuario ya esta en la base de datos\n",
    "                timestamp = list(filter(lambda reg: reg[1].strftime('%Y-%m-%d') == row.get('timestamp'), timeRegister))      # Buscar si registro de fecha ya esta en la base de datos\n",
    "                \n",
    "                if len(user) == 0:                                                                                 # Si no existe registro de usuario se inserta\n",
    "                    user = dimUserSQL(row.get('user_id'), 'insert', conection)                                     # Insertar registro de usuario\n",
    "                    userRegister.append(user)                                                                      # Agregar registro de usuario a la lista de registros existentes\n",
    "                else:                                                                     \n",
    "                    user = user[0]\n",
    "                    \n",
    "                if len(timestamp) == 0:                                                                                 # Si no existe registro de usuario se inserta\n",
    "                    timestamp = dimTimeSQL(row.get('timestamp'), 'insert', conection)                                   # Insertar registro de tiempo            \n",
    "                    timeRegister.append(timestamp)                                                                      # Agregar registro de tiempo a la lista de registros existentes\n",
    "                else:                                                                     \n",
    "                    timestamp = timestamp[0]\n",
    "                \n",
    "                hVentasSQL(user[0], timestamp[0], row.get('price'))                                                    # Insertar registro de venta\n",
    "                    \n",
    "                if( minValue is None):\n",
    "                    minValue = row.get('price')\n",
    "                \n",
    "                contRow += 1                                                                                      # Contador de registros\n",
    "                minValue = float(row.get('price')) if float(row.get('price')) < minValue else minValue            # Minimo valor de venta\n",
    "                maxValue = float(row.get('price')) if float(row.get('price')) > maxValue else maxValue            # Maximo valor de venta\n",
    "                addPrice += float(row.get('price'))                                                                 # Suma de valores de venta\n",
    "                \n",
    "                time.sleep(0.5)\n",
    "                clear_output(wait=True)         \n",
    "                print(f\"\"\"{prt}\n",
    "► Reporte:\n",
    "    |- Cantidad de registros cargados:          {contRow}\n",
    "    |- Price:\n",
    "        |- Minimo: {minValue}\n",
    "        |- Maximo: {maxValue}\n",
    "        |- Medio: {addPrice / contRow}\"\"\")\n",
    "                \n",
    "            print(\"\")\n",
    "            print(\"----------------------------------------------------\")\n",
    "\n",
    "except mysql.connector.Error as error:\n",
    "    # se genera error si no se puede conectar a la DB\n",
    "    print(\"Error al conectar a la base de datos {}\".format(error))\n",
    "\n",
    "finally:\n",
    "    if conection.is_connected():\n",
    "        # Se cierra la conexion con la DB\n",
    "        conection.close()\n",
    "        print(\"Carga de datos finalizada\")\n",
    "\n",
    "        registerNumbers = contRow\n",
    "        average = addPrice / contRow if contRow != 0 else 0\n"
   ]
  },
  {
   "cell_type": "markdown",
   "metadata": {},
   "source": [
    "**C.** Consulta base de datos"
   ]
  },
  {
   "cell_type": "code",
   "execution_count": 11,
   "metadata": {},
   "outputs": [
    {
     "name": "stdout",
     "output_type": "stream",
     "text": [
      "\n",
      "|- Cantidad de registros cargados:          147\n",
      "|- Price:\n",
      "    |- Minimo: 10\n",
      "    |- Maximo: 100\n",
      "    |- Medio: 57.01\n"
     ]
    }
   ],
   "source": [
    "# CONSULTA DATOS CARGADOS EN BASE DE DATOS\n",
    "\n",
    "dataBaseName = \"ventas_pragma\"\n",
    "\n",
    "try:\n",
    "    conection = mysql.connector.connect(              # Abrir la conexion con la base de datos\n",
    "        user=dbSettings.get('user'),\n",
    "        password=dbSettings.get('password'),\n",
    "        host=dbSettings.get('host'),\n",
    "        database=dbSettings.get('dataBaseName')\n",
    "    )\n",
    "    \n",
    "    if conection.is_connected():                                                                            # Se establece conexion con base de datos se ejecuta el pipeline\n",
    "        cursor = conection.cursor( buffered= True)\n",
    "        \n",
    "        query = \"SELECT COUNT(*), AVG(price), MIN(price), MAX(price) FROM h_ventas;\"\n",
    "        cursor.execute(query)\n",
    "    \n",
    "        data = cursor.fetchone()\n",
    "        \n",
    "        print(f\"\"\"\n",
    "|- Cantidad de registros cargados:          {data[0]}\n",
    "|- Price:\n",
    "    |- Minimo: {data[2]}\n",
    "    |- Maximo: {data[3]}\n",
    "    |- Medio: { round(data[1],2)}\"\"\")\n",
    "        \n",
    "    \n",
    "    \n",
    "except mysql.connector.Error as error:\n",
    "    print(\"Error al conectar a la base de datos {}\".format(error))                                          #se genera error si no se puede conectar a la DB\n",
    "    exit(1)\n",
    "\n",
    "finally:\n",
    "    if conection.is_connected():\n",
    "        conection.close()                                                                                    # Se cierra la conexion con la DB"
   ]
  }
 ],
 "metadata": {
  "kernelspec": {
   "display_name": "Python 3.10.4 64-bit",
   "language": "python",
   "name": "python3"
  },
  "language_info": {
   "codemirror_mode": {
    "name": "ipython",
    "version": 3
   },
   "file_extension": ".py",
   "mimetype": "text/x-python",
   "name": "python",
   "nbconvert_exporter": "python",
   "pygments_lexer": "ipython3",
   "version": "3.10.4"
  },
  "orig_nbformat": 4,
  "vscode": {
   "interpreter": {
    "hash": "369f2c481f4da34e4445cda3fffd2e751bd1c4d706f27375911949ba6bb62e1c"
   }
  }
 },
 "nbformat": 4,
 "nbformat_minor": 2
}
