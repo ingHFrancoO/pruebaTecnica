{
 "cells": [
  {
   "cell_type": "markdown",
   "metadata": {},
   "source": [
    "<center>\n",
    "<img src=\"https://www.pragma.com.co/hubfs/pragma_theme2021/images/Header%20Logo.svg\" alt=\"pragma\" title=\"pragma\">\n",
    "\n",
    "# PRUEBA TECNICA\n",
    "\n",
    "    Presentado por: HUMBERTO FRANCO OSORIO \n",
    "\n",
    "    Cargo al que aplica: INGENIERO DE DATOS\n",
    "</center>\n"
   ]
  },
  {
   "cell_type": "markdown",
   "metadata": {},
   "source": [
    "## Base de datos    "
   ]
  },
  {
   "cell_type": "markdown",
   "metadata": {},
   "source": [
    "### Instalacion libreria necesaria para conectar python con MySQL."
   ]
  },
  {
   "cell_type": "code",
   "execution_count": 2,
   "metadata": {},
   "outputs": [
    {
     "name": "stdout",
     "output_type": "stream",
     "text": [
      "Collecting mysql-connector-python\n",
      "  Downloading mysql_connector_python-8.0.30-cp310-cp310-win_amd64.whl (7.9 MB)\n",
      "     ---------------------------------------- 7.9/7.9 MB 7.1 MB/s eta 0:00:00\n",
      "Requirement already satisfied: protobuf<=3.20.1,>=3.11.0 in c:\\python310\\lib\\site-packages (from mysql-connector-python) (3.20.1)\n",
      "Installing collected packages: mysql-connector-python\n",
      "Successfully installed mysql-connector-python-8.0.30\n",
      "Note: you may need to restart the kernel to use updated packages.\n"
     ]
    },
    {
     "name": "stderr",
     "output_type": "stream",
     "text": [
      "WARNING: Ignoring invalid distribution -ip (c:\\python310\\lib\\site-packages)\n",
      "WARNING: Ignoring invalid distribution -ip (c:\\python310\\lib\\site-packages)\n",
      "WARNING: Ignoring invalid distribution -ip (c:\\python310\\lib\\site-packages)\n",
      "WARNING: Ignoring invalid distribution -ip (c:\\python310\\lib\\site-packages)\n",
      "WARNING: Ignoring invalid distribution -ip (c:\\python310\\lib\\site-packages)\n"
     ]
    }
   ],
   "source": [
    "pip install mysql-connector-python"
   ]
  },
  {
   "cell_type": "markdown",
   "metadata": {},
   "source": [
    "### Importamos la libreria para conectar a MySQL"
   ]
  },
  {
   "cell_type": "code",
   "execution_count": 5,
   "metadata": {},
   "outputs": [],
   "source": [
    "import mysql.connector"
   ]
  },
  {
   "cell_type": "markdown",
   "metadata": {},
   "source": [
    "### Creacion de base de datos"
   ]
  },
  {
   "cell_type": "markdown",
   "metadata": {},
   "source": [
    "#### **1.** Establecer conexion con MySQL"
   ]
  },
  {
   "cell_type": "code",
   "execution_count": 6,
   "metadata": {},
   "outputs": [],
   "source": [
    "setting = {\n",
    "    'user': 'root',\n",
    "    'password': '',\n",
    "    'host': 'localhost',\n",
    "}\n",
    "\n",
    "\n",
    "conection = mysql.connector.connect(\n",
    "    user= setting.get('user'), \n",
    "    password=setting.get('password'), \n",
    "    host=setting.get('host'),\n",
    "    )"
   ]
  },
  {
   "cell_type": "markdown",
   "metadata": {},
   "source": [
    "#### **2.** Se crea cursor para visualizar informacion de MySQL"
   ]
  },
  {
   "cell_type": "code",
   "execution_count": 4,
   "metadata": {},
   "outputs": [],
   "source": [
    "cursor = conection.cursor()"
   ]
  },
  {
   "cell_type": "markdown",
   "metadata": {},
   "source": [
    "#### **3.** Creamos base de datos, pero si la base de datos ya esta creada, esta no se vuelve a crear"
   ]
  },
  {
   "cell_type": "code",
   "execution_count": 5,
   "metadata": {},
   "outputs": [],
   "source": [
    "dataBaseName = \"ventas_pragma\"                                              # Se establece un nombre para la DB\n",
    "\n",
    "cursor.execute(\"CREATE DATABASE IF NOT EXISTS {}\".format(dataBaseName))     # Se crea la DB utilizando comando SQL\n",
    "\n",
    "conection.close()                                                           # Se cierra la conexion con la DB                                       "
   ]
  },
  {
   "cell_type": "markdown",
   "metadata": {},
   "source": [
    "### Creacion de Tablas y Relaciones"
   ]
  },
  {
   "cell_type": "markdown",
   "metadata": {},
   "source": [
    "#### **1.** Nos conectamos a la base de datos \"ventas_pragma\""
   ]
  },
  {
   "cell_type": "code",
   "execution_count": 27,
   "metadata": {},
   "outputs": [
    {
     "name": "stdout",
     "output_type": "stream",
     "text": [
      "Conexion a base de datos exitosa\n"
     ]
    }
   ],
   "source": [
    "dataBaseName = \"ventas_pragma\"\n",
    "\n",
    "try:\n",
    "    conection = mysql.connector.connect(user=\"root\", password=\"\", host=\"localhost\", database=dataBaseName)  # Se abre la conexion con la DB\n",
    "    if conection.is_connected():\n",
    "        print(\"Conexion a base de datos exitosa\")        \n",
    "        cursor = conection.cursor()                                                                         # Se crea un cursor para la DB\n",
    "\n",
    "except mysql.connector.Error as error:\n",
    "    print(\"Error al conectar a la base de datos {}\".format(error))                                          #se genera error si no se puede conectar a la DB\n",
    "    exit(1)\n",
    "    "
   ]
  },
  {
   "cell_type": "markdown",
   "metadata": {},
   "source": [
    "#### **2.** Creacion de tablas"
   ]
  },
  {
   "cell_type": "code",
   "execution_count": 29,
   "metadata": {},
   "outputs": [],
   "source": [
    "# Creacion de tablas por medio de comandos SQL\n",
    "cursor.execute(\"CREATE TABLE IF NOT EXISTS dim_user(user_key INT AUTO_INCREMENT NOT NULL PRIMARY KEY, user_id INT NOT NULL)\") \n",
    "cursor.execute(\"CREATE TABLE IF NOT EXISTS dim_time(time_key INT AUTO_INCREMENT NOT NULL PRIMARY KEY, date DATE NOT NULL, year INT NOT NULL, trimester INT NOT NULL, semester INT NOT NULL, month INT NOT NULL)\")\n",
    "cursor.execute(\"CREATE TABLE IF NOT EXISTS h_ventas(venta_key INT AUTO_INCREMENT NOT NULL PRIMARY KEY, user_key INT NOT NULL, time_key INT NOT NULL, price INT NOT NULL, FOREIGN KEY (user_key) REFERENCES dim_user(user_key), FOREIGN kEY (time_key) REFERENCES dim_time(time_key))\")\n",
    "\n",
    "conection.close()               # Se cierra la conexion con la DB"
   ]
  }
 ],
 "metadata": {
  "kernelspec": {
   "display_name": "Python 3.10.4 64-bit",
   "language": "python",
   "name": "python3"
  },
  "language_info": {
   "codemirror_mode": {
    "name": "ipython",
    "version": 3
   },
   "file_extension": ".py",
   "mimetype": "text/x-python",
   "name": "python",
   "nbconvert_exporter": "python",
   "pygments_lexer": "ipython3",
   "version": "3.10.4"
  },
  "orig_nbformat": 4,
  "vscode": {
   "interpreter": {
    "hash": "369f2c481f4da34e4445cda3fffd2e751bd1c4d706f27375911949ba6bb62e1c"
   }
  }
 },
 "nbformat": 4,
 "nbformat_minor": 2
}
